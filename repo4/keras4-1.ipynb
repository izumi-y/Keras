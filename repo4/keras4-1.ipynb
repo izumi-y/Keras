{
 "cells": [
  {
   "cell_type": "code",
   "execution_count": 1,
   "metadata": {},
   "outputs": [
    {
     "name": "stderr",
     "output_type": "stream",
     "text": [
      "Using TensorFlow backend.\n"
     ]
    }
   ],
   "source": [
    "from keras.utils.np_utils import to_categorical\n",
    "import keras\n",
    "import numpy as np\n",
    "from PIL import Image\n",
    "import os\n",
    "import matplotlib.pyplot as plt\n",
    "\n",
    "%matplotlib inline"
   ]
  },
  {
   "cell_type": "code",
   "execution_count": 2,
   "metadata": {},
   "outputs": [],
   "source": [
    "x_train = []\n",
    "y_train = []\n",
    "\n",
    "for dir in os.listdir(\"train\"):\n",
    "    if dir == \".DS_Store\":\n",
    "        continue\n",
    "        \n",
    "    dir1 = \"train/\" + dir\n",
    "    label = 0\n",
    "    \n",
    "    if dir == \"cat\":\n",
    "        label = 0\n",
    "    elif dir == \"dog\":\n",
    "        label = 1\n",
    "        \n",
    "    for file in os.listdir(dir1):\n",
    "        if file != \".DS_Store\":\n",
    "            y_train.append(label)\n",
    "            filepath = dir1 + \"/\" + file\n",
    "            image = np.array(Image.open(filepath).resize((150, 150)))\n",
    "            image = image.astype(\"float32\")\n",
    "            x_train.append(image / 255.)\n",
    "            \n",
    "x_train = np.array(x_train)\n",
    "Y_train = to_categorical(y_train)"
   ]
  },
  {
   "cell_type": "code",
   "execution_count": 3,
   "metadata": {},
   "outputs": [
    {
     "name": "stdout",
     "output_type": "stream",
     "text": [
      "_________________________________________________________________\n",
      "Layer (type)                 Output Shape              Param #   \n",
      "=================================================================\n",
      "conv2d_1 (Conv2D)            (None, 148, 148, 32)      896       \n",
      "_________________________________________________________________\n",
      "activation_1 (Activation)    (None, 148, 148, 32)      0         \n",
      "_________________________________________________________________\n",
      "max_pooling2d_1 (MaxPooling2 (None, 74, 74, 32)        0         \n",
      "_________________________________________________________________\n",
      "conv2d_2 (Conv2D)            (None, 72, 72, 32)        9248      \n",
      "_________________________________________________________________\n",
      "activation_2 (Activation)    (None, 72, 72, 32)        0         \n",
      "_________________________________________________________________\n",
      "max_pooling2d_2 (MaxPooling2 (None, 36, 36, 32)        0         \n",
      "_________________________________________________________________\n",
      "conv2d_3 (Conv2D)            (None, 34, 34, 64)        18496     \n",
      "_________________________________________________________________\n",
      "activation_3 (Activation)    (None, 34, 34, 64)        0         \n",
      "_________________________________________________________________\n",
      "max_pooling2d_3 (MaxPooling2 (None, 17, 17, 64)        0         \n",
      "_________________________________________________________________\n",
      "flatten_1 (Flatten)          (None, 18496)             0         \n",
      "_________________________________________________________________\n",
      "dense_1 (Dense)              (None, 64)                1183808   \n",
      "_________________________________________________________________\n",
      "activation_4 (Activation)    (None, 64)                0         \n",
      "_________________________________________________________________\n",
      "dropout_1 (Dropout)          (None, 64)                0         \n",
      "_________________________________________________________________\n",
      "dense_2 (Dense)              (None, 2)                 130       \n",
      "_________________________________________________________________\n",
      "activation_5 (Activation)    (None, 2)                 0         \n",
      "=================================================================\n",
      "Total params: 1,212,578\n",
      "Trainable params: 1,212,578\n",
      "Non-trainable params: 0\n",
      "_________________________________________________________________\n"
     ]
    }
   ],
   "source": [
    "from keras.models import Sequential\n",
    "from keras.layers.core import Dense, Activation, Dropout,Flatten\n",
    "from keras.layers import Conv2D, MaxPooling2D\n",
    "\n",
    "model = Sequential()\n",
    "\n",
    "model.add(Conv2D(32, (3, 3), input_shape=(150, 150, 3)))\n",
    "model.add(Activation('relu'))\n",
    "model.add(MaxPooling2D(pool_size=(2, 2)))\n",
    "\n",
    "model.add(Conv2D(32, (3, 3)))\n",
    "model.add(Activation('relu'))\n",
    "model.add(MaxPooling2D(pool_size=(2, 2)))\n",
    "\n",
    "model.add(Conv2D(64, (3, 3)))\n",
    "model.add(Activation('relu'))\n",
    "model.add(MaxPooling2D(pool_size=(2, 2)))\n",
    "\n",
    "model.add(Flatten())\n",
    "model.add(Dense(64))\n",
    "model.add(Activation('relu'))\n",
    "model.add(Dropout(0.5))\n",
    "model.add(Dense(2))\n",
    "model.add(Activation('softmax'))\n",
    "\n",
    "model.summary()"
   ]
  },
  {
   "cell_type": "code",
   "execution_count": 4,
   "metadata": {},
   "outputs": [],
   "source": [
    "from keras.optimizers import Adam\n",
    "\n",
    "model.compile(loss='binary_crossentropy',\n",
    "                  optimizer=Adam(),\n",
    "                  metrics=['accuracy'])"
   ]
  },
  {
   "cell_type": "code",
   "execution_count": 5,
   "metadata": {},
   "outputs": [],
   "source": [
    "x_test = []\n",
    "y_test = []\n",
    "\n",
    "for dir in os.listdir(\"test\"):\n",
    "    if dir == \".DS_Store\":\n",
    "        continue\n",
    "        \n",
    "    dir2 = \"test/\" + dir\n",
    "    label = 0\n",
    "    \n",
    "    if dir == \"cat\":\n",
    "        label = 0\n",
    "    elif dir == \"dog\":\n",
    "        label = 1\n",
    "        \n",
    "    for file in os.listdir(dir2):\n",
    "        if file != \".DS_Store\":\n",
    "            y_test.append(label)\n",
    "            filepath = dir2 + \"/\" + file\n",
    "            image = np.array(Image.open(filepath).resize((150, 150)))\n",
    "            image = image.astype(\"float32\")\n",
    "            x_test.append(image / 255.)\n",
    "            \n",
    "x_test = np.array(x_test)\n",
    "Y_test = to_categorical(y_test)"
   ]
  },
  {
   "cell_type": "code",
   "execution_count": 6,
   "metadata": {},
   "outputs": [
    {
     "name": "stdout",
     "output_type": "stream",
     "text": [
      "Train on 1800 samples, validate on 200 samples\n",
      "Epoch 1/20\n",
      "2s - loss: 0.6898 - acc: 0.5589 - val_loss: 0.7098 - val_acc: 0.4450\n",
      "Epoch 2/20\n",
      "1s - loss: 0.6534 - acc: 0.6256 - val_loss: 0.6389 - val_acc: 0.5750\n",
      "Epoch 3/20\n",
      "1s - loss: 0.5903 - acc: 0.6822 - val_loss: 0.8836 - val_acc: 0.4500\n",
      "Epoch 4/20\n",
      "1s - loss: 0.5380 - acc: 0.7183 - val_loss: 0.9841 - val_acc: 0.4450\n",
      "Epoch 5/20\n",
      "1s - loss: 0.4940 - acc: 0.7628 - val_loss: 0.9985 - val_acc: 0.4300\n",
      "Epoch 6/20\n",
      "1s - loss: 0.4526 - acc: 0.7844 - val_loss: 0.4692 - val_acc: 0.7550\n",
      "Epoch 7/20\n",
      "1s - loss: 0.4112 - acc: 0.8211 - val_loss: 0.6238 - val_acc: 0.6900\n",
      "Epoch 8/20\n",
      "1s - loss: 0.3504 - acc: 0.8367 - val_loss: 1.1431 - val_acc: 0.4700\n",
      "Epoch 9/20\n",
      "1s - loss: 0.3172 - acc: 0.8600 - val_loss: 1.0594 - val_acc: 0.5550\n",
      "Epoch 10/20\n",
      "1s - loss: 0.2626 - acc: 0.8833 - val_loss: 0.9682 - val_acc: 0.6450\n",
      "Epoch 11/20\n",
      "1s - loss: 0.2097 - acc: 0.9217 - val_loss: 0.8133 - val_acc: 0.6800\n",
      "Epoch 12/20\n",
      "1s - loss: 0.1802 - acc: 0.9289 - val_loss: 1.0684 - val_acc: 0.6550\n",
      "Epoch 13/20\n",
      "1s - loss: 0.1414 - acc: 0.9450 - val_loss: 1.0594 - val_acc: 0.7100\n",
      "Epoch 14/20\n",
      "1s - loss: 0.1145 - acc: 0.9561 - val_loss: 0.9558 - val_acc: 0.7350\n",
      "Epoch 15/20\n",
      "1s - loss: 0.1040 - acc: 0.9578 - val_loss: 1.1741 - val_acc: 0.7150\n",
      "Epoch 16/20\n",
      "1s - loss: 0.1011 - acc: 0.9622 - val_loss: 1.8772 - val_acc: 0.5750\n",
      "Epoch 17/20\n",
      "1s - loss: 0.0645 - acc: 0.9722 - val_loss: 2.1140 - val_acc: 0.6150\n",
      "Epoch 18/20\n",
      "1s - loss: 0.0604 - acc: 0.9778 - val_loss: 1.8791 - val_acc: 0.6300\n",
      "Epoch 19/20\n",
      "1s - loss: 0.0506 - acc: 0.9789 - val_loss: 1.7227 - val_acc: 0.6450\n",
      "Epoch 20/20\n",
      "1s - loss: 0.0669 - acc: 0.9761 - val_loss: 1.7063 - val_acc: 0.6650\n"
     ]
    }
   ],
   "source": [
    "batch_size = 32\n",
    "epochs = 20\n",
    "history = model.fit(x_train, Y_train,\n",
    "                            batch_size=batch_size,\n",
    "                            epochs=epochs,\n",
    "                            verbose=2,\n",
    "                            validation_split=0.1\n",
    "                            )"
   ]
  },
  {
   "cell_type": "code",
   "execution_count": 7,
   "metadata": {},
   "outputs": [
    {
     "data": {
      "image/png": "[encoded data removed]",
      "text/plain": [
       "<matplotlib.figure.Figure at 0x7f751033a990>"
      ]
     },
     "metadata": {},
     "output_type": "display_data"
    },
    {
     "data": {
      "image/png": "[encoded data removed]",
      "text/plain": [
       "<matplotlib.figure.Figure at 0x7f751038e390>"
      ]
     },
     "metadata": {},
     "output_type": "display_data"
    }
   ],
   "source": [
    "#正答率\n",
    "plt.plot(history.history['acc'])\n",
    "plt.plot(history.history['val_acc'])\n",
    "plt.title('model accuracy')\n",
    "plt.ylabel('accuracy')\n",
    "plt.xlabel('epoch')\n",
    "plt.legend(['train', 'val'], loc='upper left')\n",
    "plt.show()\n",
    "#loss\n",
    "plt.plot(history.history['loss'])\n",
    "plt.plot(history.history['val_loss'])\n",
    "plt.title('model loss')\n",
    "plt.ylabel('loss')\n",
    "plt.xlabel('epoch')\n",
    "plt.legend(['train', 'val'], loc='upper left')\n",
    "plt.show()"
   ]
  },
  {
   "cell_type": "code",
   "execution_count": 8,
   "metadata": {},
   "outputs": [
    {
     "name": "stdout",
     "output_type": "stream",
     "text": [
      "accuracy: 0.7375\n"
     ]
    }
   ],
   "source": [
    "_, acc = model.evaluate(x_test, Y_test, verbose=0)\n",
    "print('accuracy: {}'.format(acc))"
   ]
  },
  {
   "cell_type": "code",
   "execution_count": null,
   "metadata": {},
   "outputs": [],
   "source": []
  }
 ],
 "metadata": {
  "kernelspec": {
   "display_name": "Python 2",
   "language": "python",
   "name": "python2"
  },
  "language_info": {
   "codemirror_mode": {
    "name": "ipython",
    "version": 2
   },
   "file_extension": ".py",
   "mimetype": "text/x-python",
   "name": "python",
   "nbconvert_exporter": "python",
   "pygments_lexer": "ipython2",
   "version": "2.7.6"
  }
 },
 "nbformat": 4,
 "nbformat_minor": 2
}
