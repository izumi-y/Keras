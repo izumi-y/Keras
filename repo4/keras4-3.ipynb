{
 "cells": [
  {
   "cell_type": "code",
   "execution_count": 1,
   "metadata": {},
   "outputs": [
    {
     "name": "stderr",
     "output_type": "stream",
     "text": [
      "Using TensorFlow backend.\n"
     ]
    }
   ],
   "source": [
    "from keras.utils.np_utils import to_categorical\n",
    "import keras\n",
    "import numpy as np\n",
    "from PIL import Image\n",
    "import os\n",
    "import matplotlib.pyplot as plt\n",
    "from keras.applications.vgg16 import VGG16\n",
    "from keras.models import Sequential, Model\n",
    "from keras.layers import Activation, Dropout, Flatten, Dense, Input\n",
    "from keras.optimizers import Adam\n",
    "from keras import optimizers\n",
    "\n",
    "%matplotlib inline"
   ]
  },
  {
   "cell_type": "code",
   "execution_count": 2,
   "metadata": {},
   "outputs": [],
   "source": [
    "x_train = []\n",
    "y_train = []\n",
    "\n",
    "for dir in os.listdir(\"train\"):\n",
    "    if dir == \".DS_Store\":\n",
    "        continue\n",
    "        \n",
    "    dir1 = \"train/\" + dir\n",
    "    label = 0\n",
    "    \n",
    "    if dir == \"cat\":\n",
    "        label = 0\n",
    "    elif dir == \"dog\":\n",
    "        label = 1\n",
    "        \n",
    "    for file in os.listdir(dir1):\n",
    "        if file != \".DS_Store\":\n",
    "            y_train.append(label)\n",
    "            filepath = dir1 + \"/\" + file\n",
    "            image = np.array(Image.open(filepath).resize((150, 150)))\n",
    "            image = image.astype(\"float32\")\n",
    "            x_train.append(image / 255.)\n",
    "            \n",
    "x_train = np.array(x_train)\n",
    "Y_train = to_categorical(y_train)"
   ]
  },
  {
   "cell_type": "code",
   "execution_count": 3,
   "metadata": {},
   "outputs": [],
   "source": [
    "x_test = []\n",
    "y_test = []\n",
    "\n",
    "for dir in os.listdir(\"test\"):\n",
    "    if dir == \".DS_Store\":\n",
    "        continue\n",
    "        \n",
    "    dir2 = \"test/\" + dir\n",
    "    label = 0\n",
    "    \n",
    "    if dir == \"cat\":\n",
    "        label = 0\n",
    "    elif dir == \"dog\":\n",
    "        label = 1\n",
    "        \n",
    "    for file in os.listdir(dir2):\n",
    "        if file != \".DS_Store\":\n",
    "            y_test.append(label)\n",
    "            filepath = dir2 + \"/\" + file\n",
    "            image = np.array(Image.open(filepath).resize((150, 150)))\n",
    "            image = image.astype(\"float32\")\n",
    "            x_test.append(image / 255.)\n",
    "            \n",
    "x_test = np.array(x_test)\n",
    "Y_test = to_categorical(y_test)"
   ]
  },
  {
   "cell_type": "code",
   "execution_count": 4,
   "metadata": {},
   "outputs": [],
   "source": [
    "input_tensor = Input(shape=(150, 150, 3))\n",
    "vgg16_model = VGG16(include_top=False, weights='imagenet', input_tensor=input_tensor)"
   ]
  },
  {
   "cell_type": "code",
   "execution_count": 5,
   "metadata": {},
   "outputs": [],
   "source": [
    "top_model = Sequential()\n",
    "top_model.add(Flatten(input_shape=vgg16_model.output_shape[1:]))\n",
    "top_model.add(Dense(256))\n",
    "top_model.add(Activation('relu'))\n",
    "top_model.add(Dropout(0.5))\n",
    "top_model.add(Dense(2))\n",
    "top_model.add(Activation('softmax'))"
   ]
  },
  {
   "cell_type": "code",
   "execution_count": 6,
   "metadata": {},
   "outputs": [],
   "source": [
    "model = Model(inputs=vgg16_model.input, outputs=top_model(vgg16_model.output))"
   ]
  },
  {
   "cell_type": "code",
   "execution_count": 7,
   "metadata": {},
   "outputs": [
    {
     "name": "stdout",
     "output_type": "stream",
     "text": [
      "_________________________________________________________________\n",
      "Layer (type)                 Output Shape              Param #   \n",
      "=================================================================\n",
      "input_1 (InputLayer)         (None, 150, 150, 3)       0         \n",
      "_________________________________________________________________\n",
      "block1_conv1 (Conv2D)        (None, 150, 150, 64)      1792      \n",
      "_________________________________________________________________\n",
      "block1_conv2 (Conv2D)        (None, 150, 150, 64)      36928     \n",
      "_________________________________________________________________\n",
      "block1_pool (MaxPooling2D)   (None, 75, 75, 64)        0         \n",
      "_________________________________________________________________\n",
      "block2_conv1 (Conv2D)        (None, 75, 75, 128)       73856     \n",
      "_________________________________________________________________\n",
      "block2_conv2 (Conv2D)        (None, 75, 75, 128)       147584    \n",
      "_________________________________________________________________\n",
      "block2_pool (MaxPooling2D)   (None, 37, 37, 128)       0         \n",
      "_________________________________________________________________\n",
      "block3_conv1 (Conv2D)        (None, 37, 37, 256)       295168    \n",
      "_________________________________________________________________\n",
      "block3_conv2 (Conv2D)        (None, 37, 37, 256)       590080    \n",
      "_________________________________________________________________\n",
      "block3_conv3 (Conv2D)        (None, 37, 37, 256)       590080    \n",
      "_________________________________________________________________\n",
      "block3_pool (MaxPooling2D)   (None, 18, 18, 256)       0         \n",
      "_________________________________________________________________\n",
      "block4_conv1 (Conv2D)        (None, 18, 18, 512)       1180160   \n",
      "_________________________________________________________________\n",
      "block4_conv2 (Conv2D)        (None, 18, 18, 512)       2359808   \n",
      "_________________________________________________________________\n",
      "block4_conv3 (Conv2D)        (None, 18, 18, 512)       2359808   \n",
      "_________________________________________________________________\n",
      "block4_pool (MaxPooling2D)   (None, 9, 9, 512)         0         \n",
      "_________________________________________________________________\n",
      "block5_conv1 (Conv2D)        (None, 9, 9, 512)         2359808   \n",
      "_________________________________________________________________\n",
      "block5_conv2 (Conv2D)        (None, 9, 9, 512)         2359808   \n",
      "_________________________________________________________________\n",
      "block5_conv3 (Conv2D)        (None, 9, 9, 512)         2359808   \n",
      "_________________________________________________________________\n",
      "block5_pool (MaxPooling2D)   (None, 4, 4, 512)         0         \n",
      "_________________________________________________________________\n",
      "sequential_1 (Sequential)    (None, 2)                 2097922   \n",
      "=================================================================\n",
      "Total params: 16,812,610\n",
      "Trainable params: 9,177,346\n",
      "Non-trainable params: 7,635,264\n",
      "_________________________________________________________________\n"
     ]
    }
   ],
   "source": [
    "for layer in model.layers[:15]:\n",
    "    layer.trainable = False\n",
    "    \n",
    "model.summary()"
   ]
  },
  {
   "cell_type": "code",
   "execution_count": 8,
   "metadata": {},
   "outputs": [],
   "source": [
    "model.compile(loss='binary_crossentropy',                 \n",
    "                optimizer=optimizers.SGD(lr=1e-4, momentum=0.9),\n",
    "                metrics=['accuracy'])"
   ]
  },
  {
   "cell_type": "code",
   "execution_count": 9,
   "metadata": {},
   "outputs": [
    {
     "name": "stdout",
     "output_type": "stream",
     "text": [
      "Train on 1800 samples, validate on 200 samples\n",
      "Epoch 1/20\n",
      "8s - loss: 0.6851 - acc: 0.6278 - val_loss: 0.5244 - val_acc: 0.6950\n",
      "Epoch 2/20\n",
      "6s - loss: 0.4544 - acc: 0.7867 - val_loss: 0.4440 - val_acc: 0.7400\n",
      "Epoch 3/20\n",
      "6s - loss: 0.3646 - acc: 0.8433 - val_loss: 0.3055 - val_acc: 0.8400\n",
      "Epoch 4/20\n",
      "6s - loss: 0.3072 - acc: 0.8767 - val_loss: 0.3846 - val_acc: 0.7750\n",
      "Epoch 5/20\n",
      "6s - loss: 0.2718 - acc: 0.8911 - val_loss: 0.2174 - val_acc: 0.9050\n",
      "Epoch 6/20\n",
      "6s - loss: 0.2480 - acc: 0.8939 - val_loss: 0.3561 - val_acc: 0.8200\n",
      "Epoch 7/20\n",
      "6s - loss: 0.2301 - acc: 0.9156 - val_loss: 0.2834 - val_acc: 0.8650\n",
      "Epoch 8/20\n",
      "6s - loss: 0.2037 - acc: 0.9222 - val_loss: 0.2999 - val_acc: 0.8650\n",
      "Epoch 9/20\n",
      "6s - loss: 0.1797 - acc: 0.9306 - val_loss: 0.3124 - val_acc: 0.8700\n",
      "Epoch 10/20\n",
      "6s - loss: 0.1696 - acc: 0.9361 - val_loss: 0.2381 - val_acc: 0.9000\n",
      "Epoch 11/20\n",
      "6s - loss: 0.1608 - acc: 0.9439 - val_loss: 0.2740 - val_acc: 0.8900\n",
      "Epoch 12/20\n",
      "6s - loss: 0.1450 - acc: 0.9439 - val_loss: 0.2636 - val_acc: 0.8950\n",
      "Epoch 13/20\n",
      "6s - loss: 0.1272 - acc: 0.9578 - val_loss: 0.1868 - val_acc: 0.9150\n",
      "Epoch 14/20\n",
      "6s - loss: 0.1281 - acc: 0.9522 - val_loss: 0.2084 - val_acc: 0.9150\n",
      "Epoch 15/20\n",
      "6s - loss: 0.1170 - acc: 0.9594 - val_loss: 0.3569 - val_acc: 0.8550\n",
      "Epoch 16/20\n",
      "6s - loss: 0.1016 - acc: 0.9661 - val_loss: 0.2359 - val_acc: 0.9000\n",
      "Epoch 17/20\n",
      "6s - loss: 0.0952 - acc: 0.9689 - val_loss: 0.2444 - val_acc: 0.9000\n",
      "Epoch 18/20\n",
      "6s - loss: 0.0844 - acc: 0.9722 - val_loss: 0.2658 - val_acc: 0.8950\n",
      "Epoch 19/20\n",
      "6s - loss: 0.0784 - acc: 0.9756 - val_loss: 0.2882 - val_acc: 0.8900\n",
      "Epoch 20/20\n",
      "6s - loss: 0.0682 - acc: 0.9800 - val_loss: 0.2824 - val_acc: 0.8950\n"
     ]
    }
   ],
   "source": [
    "batch_size = 32\n",
    "epochs = 20\n",
    "history = model.fit(x_train, Y_train,\n",
    "                            batch_size=batch_size,\n",
    "                            epochs=epochs,\n",
    "                            validation_split=0.1,\n",
    "                            verbose=2)"
   ]
  },
  {
   "cell_type": "code",
   "execution_count": 10,
   "metadata": {},
   "outputs": [
    {
     "data": {
      "image/png": "[encoded data removed]",
      "text/plain": [
       "<matplotlib.figure.Figure at 0x7f006165c810>"
      ]
     },
     "metadata": {},
     "output_type": "display_data"
    },
    {
     "data": {
      "image/png": "[encoded data removed]",
      "text/plain": [
       "<matplotlib.figure.Figure at 0x7f00612f8710>"
      ]
     },
     "metadata": {},
     "output_type": "display_data"
    }
   ],
   "source": [
    "#正答率\n",
    "plt.plot(history.history['acc'])\n",
    "plt.plot(history.history['val_acc'])\n",
    "plt.title('model accuracy')\n",
    "plt.ylabel('accuracy')\n",
    "plt.xlabel('epoch')\n",
    "plt.legend(['train', 'val'], loc='upper left')\n",
    "plt.show()\n",
    "#loss\n",
    "plt.plot(history.history['loss'])\n",
    "plt.plot(history.history['val_loss'])\n",
    "plt.title('model loss')\n",
    "plt.ylabel('loss')\n",
    "plt.xlabel('epoch')\n",
    "plt.legend(['train', 'val'], loc='upper left')\n",
    "plt.show()"
   ]
  },
  {
   "cell_type": "code",
   "execution_count": 11,
   "metadata": {},
   "outputs": [
    {
     "name": "stdout",
     "output_type": "stream",
     "text": [
      "accuracy: 0.91375\n"
     ]
    }
   ],
   "source": [
    "_, acc = model.evaluate(x_test, Y_test, verbose=0)\n",
    "print('accuracy: {}'.format(acc))"
   ]
  },
  {
   "cell_type": "code",
   "execution_count": null,
   "metadata": {},
   "outputs": [],
   "source": []
  }
 ],
 "metadata": {
  "kernelspec": {
   "display_name": "Python 2",
   "language": "python",
   "name": "python2"
  },
  "language_info": {
   "codemirror_mode": {
    "name": "ipython",
    "version": 2
   },
   "file_extension": ".py",
   "mimetype": "text/x-python",
   "name": "python",
   "nbconvert_exporter": "python",
   "pygments_lexer": "ipython2",
   "version": "2.7.6"
  }
 },
 "nbformat": 4,
 "nbformat_minor": 2
}
