{
 "cells": [
  {
   "cell_type": "code",
   "execution_count": 1,
   "metadata": {},
   "outputs": [
    {
     "name": "stderr",
     "output_type": "stream",
     "text": [
      "Using TensorFlow backend.\n"
     ]
    }
   ],
   "source": [
    "from keras.utils.np_utils import to_categorical\n",
    "import keras\n",
    "import numpy as np\n",
    "from PIL import Image\n",
    "import os\n",
    "import matplotlib.pyplot as plt\n",
    "from keras.applications.vgg16 import VGG16\n",
    "from keras.models import Sequential\n",
    "from keras.layers import Activation, Dropout, Flatten, Dense, Input\n",
    "from keras.optimizers import Adam\n",
    "\n",
    "%matplotlib inline"
   ]
  },
  {
   "cell_type": "code",
   "execution_count": 2,
   "metadata": {},
   "outputs": [],
   "source": [
    "x_train = []\n",
    "y_train = []\n",
    "\n",
    "for dir in os.listdir(\"train\"):\n",
    "    if dir == \".DS_Store\":\n",
    "        continue\n",
    "        \n",
    "    dir1 = \"train/\" + dir\n",
    "    label = 0\n",
    "    \n",
    "    if dir == \"cat\":\n",
    "        label = 0\n",
    "    elif dir == \"dog\":\n",
    "        label = 1\n",
    "        \n",
    "    for file in os.listdir(dir1):\n",
    "        if file != \".DS_Store\":\n",
    "            y_train.append(label)\n",
    "            filepath = dir1 + \"/\" + file\n",
    "            image = np.array(Image.open(filepath).resize((150, 150)))\n",
    "            image = image.astype(\"float32\")\n",
    "            x_train.append(image / 255.)\n",
    "            \n",
    "x_train = np.array(x_train)\n",
    "Y_train = to_categorical(y_train)"
   ]
  },
  {
   "cell_type": "code",
   "execution_count": 3,
   "metadata": {},
   "outputs": [],
   "source": [
    "x_test = []\n",
    "y_test = []\n",
    "\n",
    "for dir in os.listdir(\"test\"):\n",
    "    if dir == \".DS_Store\":\n",
    "        continue\n",
    "        \n",
    "    dir2 = \"test/\" + dir\n",
    "    label = 0\n",
    "    \n",
    "    if dir == \"cat\":\n",
    "        label = 0\n",
    "    elif dir == \"dog\":\n",
    "        label = 1\n",
    "        \n",
    "    for file in os.listdir(dir2):\n",
    "        if file != \".DS_Store\":\n",
    "            y_test.append(label)\n",
    "            filepath = dir2 + \"/\" + file\n",
    "            image = np.array(Image.open(filepath).resize((150, 150)))\n",
    "            image = image.astype(\"float32\")\n",
    "            x_test.append(image / 255.)\n",
    "            \n",
    "x_test = np.array(x_test)\n",
    "Y_test = to_categorical(y_test)"
   ]
  },
  {
   "cell_type": "code",
   "execution_count": 4,
   "metadata": {},
   "outputs": [
    {
     "name": "stdout",
     "output_type": "stream",
     "text": [
      "_________________________________________________________________\n",
      "Layer (type)                 Output Shape              Param #   \n",
      "=================================================================\n",
      "input_1 (InputLayer)         (None, 150, 150, 3)       0         \n",
      "_________________________________________________________________\n",
      "block1_conv1 (Conv2D)        (None, 150, 150, 64)      1792      \n",
      "_________________________________________________________________\n",
      "block1_conv2 (Conv2D)        (None, 150, 150, 64)      36928     \n",
      "_________________________________________________________________\n",
      "block1_pool (MaxPooling2D)   (None, 75, 75, 64)        0         \n",
      "_________________________________________________________________\n",
      "block2_conv1 (Conv2D)        (None, 75, 75, 128)       73856     \n",
      "_________________________________________________________________\n",
      "block2_conv2 (Conv2D)        (None, 75, 75, 128)       147584    \n",
      "_________________________________________________________________\n",
      "block2_pool (MaxPooling2D)   (None, 37, 37, 128)       0         \n",
      "_________________________________________________________________\n",
      "block3_conv1 (Conv2D)        (None, 37, 37, 256)       295168    \n",
      "_________________________________________________________________\n",
      "block3_conv2 (Conv2D)        (None, 37, 37, 256)       590080    \n",
      "_________________________________________________________________\n",
      "block3_conv3 (Conv2D)        (None, 37, 37, 256)       590080    \n",
      "_________________________________________________________________\n",
      "block3_pool (MaxPooling2D)   (None, 18, 18, 256)       0         \n",
      "_________________________________________________________________\n",
      "block4_conv1 (Conv2D)        (None, 18, 18, 512)       1180160   \n",
      "_________________________________________________________________\n",
      "block4_conv2 (Conv2D)        (None, 18, 18, 512)       2359808   \n",
      "_________________________________________________________________\n",
      "block4_conv3 (Conv2D)        (None, 18, 18, 512)       2359808   \n",
      "_________________________________________________________________\n",
      "block4_pool (MaxPooling2D)   (None, 9, 9, 512)         0         \n",
      "_________________________________________________________________\n",
      "block5_conv1 (Conv2D)        (None, 9, 9, 512)         2359808   \n",
      "_________________________________________________________________\n",
      "block5_conv2 (Conv2D)        (None, 9, 9, 512)         2359808   \n",
      "_________________________________________________________________\n",
      "block5_conv3 (Conv2D)        (None, 9, 9, 512)         2359808   \n",
      "_________________________________________________________________\n",
      "block5_pool (MaxPooling2D)   (None, 4, 4, 512)         0         \n",
      "=================================================================\n",
      "Total params: 14,714,688\n",
      "Trainable params: 14,714,688\n",
      "Non-trainable params: 0\n",
      "_________________________________________________________________\n"
     ]
    }
   ],
   "source": [
    "model = VGG16(include_top=False, weights='imagenet', input_shape=(150, 150, 3))\n",
    "\n",
    "model.summary()"
   ]
  },
  {
   "cell_type": "code",
   "execution_count": 5,
   "metadata": {},
   "outputs": [
    {
     "name": "stdout",
     "output_type": "stream",
     "text": [
      "(2000, 4, 4, 512)\n",
      "(800, 4, 4, 512)\n"
     ]
    }
   ],
   "source": [
    "bottleneck_features_train = model.predict(x_train)\n",
    "bottleneck_features_test = model.predict(x_test)\n",
    "print(bottleneck_features_train.shape)\n",
    "print(bottleneck_features_test.shape)"
   ]
  },
  {
   "cell_type": "code",
   "execution_count": 6,
   "metadata": {},
   "outputs": [
    {
     "name": "stdout",
     "output_type": "stream",
     "text": [
      "_________________________________________________________________\n",
      "Layer (type)                 Output Shape              Param #   \n",
      "=================================================================\n",
      "flatten_1 (Flatten)          (None, 8192)              0         \n",
      "_________________________________________________________________\n",
      "dense_1 (Dense)              (None, 256)               2097408   \n",
      "_________________________________________________________________\n",
      "activation_1 (Activation)    (None, 256)               0         \n",
      "_________________________________________________________________\n",
      "dropout_1 (Dropout)          (None, 256)               0         \n",
      "_________________________________________________________________\n",
      "dense_2 (Dense)              (None, 2)                 514       \n",
      "_________________________________________________________________\n",
      "activation_2 (Activation)    (None, 2)                 0         \n",
      "=================================================================\n",
      "Total params: 2,097,922\n",
      "Trainable params: 2,097,922\n",
      "Non-trainable params: 0\n",
      "_________________________________________________________________\n"
     ]
    }
   ],
   "source": [
    "my_model = Sequential()\n",
    "my_model.add(Flatten(input_shape=bottleneck_features_train.shape[1:]))\n",
    "my_model.add(Dense(256))\n",
    "my_model.add(Activation('relu'))\n",
    "my_model.add(Dropout(0.5))\n",
    "my_model.add(Dense(2))\n",
    "my_model.add(Activation('softmax'))\n",
    "\n",
    "my_model.summary()"
   ]
  },
  {
   "cell_type": "code",
   "execution_count": 7,
   "metadata": {},
   "outputs": [],
   "source": [
    "my_model.compile(loss='binary_crossentropy',                 \n",
    "                    optimizer=Adam(),\n",
    "                    metrics=['accuracy'])"
   ]
  },
  {
   "cell_type": "code",
   "execution_count": 8,
   "metadata": {},
   "outputs": [
    {
     "name": "stdout",
     "output_type": "stream",
     "text": [
      "Train on 1800 samples, validate on 200 samples\n",
      "Epoch 1/20\n",
      "0s - loss: 0.5696 - acc: 0.8000 - val_loss: 0.2207 - val_acc: 0.9100\n",
      "Epoch 2/20\n",
      "0s - loss: 0.2691 - acc: 0.8894 - val_loss: 0.4889 - val_acc: 0.7650\n",
      "Epoch 3/20\n",
      "0s - loss: 0.2154 - acc: 0.9117 - val_loss: 0.3555 - val_acc: 0.8500\n",
      "Epoch 4/20\n",
      "0s - loss: 0.1635 - acc: 0.9333 - val_loss: 0.2036 - val_acc: 0.9100\n",
      "Epoch 5/20\n",
      "0s - loss: 0.1265 - acc: 0.9528 - val_loss: 0.3042 - val_acc: 0.8800\n",
      "Epoch 6/20\n",
      "0s - loss: 0.1151 - acc: 0.9583 - val_loss: 0.6123 - val_acc: 0.8100\n",
      "Epoch 7/20\n",
      "0s - loss: 0.0846 - acc: 0.9728 - val_loss: 0.4960 - val_acc: 0.8200\n",
      "Epoch 8/20\n",
      "0s - loss: 0.0881 - acc: 0.9700 - val_loss: 0.2192 - val_acc: 0.9150\n",
      "Epoch 9/20\n",
      "0s - loss: 0.0553 - acc: 0.9811 - val_loss: 0.3862 - val_acc: 0.8550\n",
      "Epoch 10/20\n",
      "0s - loss: 0.0479 - acc: 0.9856 - val_loss: 0.4065 - val_acc: 0.8600\n",
      "Epoch 11/20\n",
      "0s - loss: 0.0516 - acc: 0.9861 - val_loss: 0.4627 - val_acc: 0.8600\n",
      "Epoch 12/20\n",
      "0s - loss: 0.0447 - acc: 0.9833 - val_loss: 0.6109 - val_acc: 0.8300\n",
      "Epoch 13/20\n",
      "0s - loss: 0.0402 - acc: 0.9878 - val_loss: 0.4329 - val_acc: 0.8800\n",
      "Epoch 14/20\n",
      "0s - loss: 0.0372 - acc: 0.9889 - val_loss: 0.5757 - val_acc: 0.8400\n",
      "Epoch 15/20\n",
      "0s - loss: 0.0274 - acc: 0.9917 - val_loss: 0.4324 - val_acc: 0.8900\n",
      "Epoch 16/20\n",
      "0s - loss: 0.0254 - acc: 0.9917 - val_loss: 0.3999 - val_acc: 0.8950\n",
      "Epoch 17/20\n",
      "0s - loss: 0.0313 - acc: 0.9878 - val_loss: 0.6783 - val_acc: 0.8300\n",
      "Epoch 18/20\n",
      "0s - loss: 0.0469 - acc: 0.9856 - val_loss: 0.5471 - val_acc: 0.8600\n",
      "Epoch 19/20\n",
      "0s - loss: 0.0326 - acc: 0.9900 - val_loss: 0.2297 - val_acc: 0.9200\n",
      "Epoch 20/20\n",
      "0s - loss: 0.0401 - acc: 0.9861 - val_loss: 0.4352 - val_acc: 0.8950\n"
     ]
    }
   ],
   "source": [
    "batch_size = 32\n",
    "epochs = 20\n",
    "history = my_model.fit(bottleneck_features_train, Y_train,\n",
    "                            batch_size=batch_size,\n",
    "                            epochs=epochs,\n",
    "                            validation_split=0.1,\n",
    "                            verbose=2)"
   ]
  },
  {
   "cell_type": "code",
   "execution_count": 9,
   "metadata": {},
   "outputs": [
    {
     "data": {
      "image/png": "[encoded data removed]",
      "text/plain": [
       "<matplotlib.figure.Figure at 0x7fd09558b1d0>"
      ]
     },
     "metadata": {},
     "output_type": "display_data"
    },
    {
     "data": {
      "image/png": "[encoded data removed]",
      "text/plain": [
       "<matplotlib.figure.Figure at 0x7fd0957c9c10>"
      ]
     },
     "metadata": {},
     "output_type": "display_data"
    }
   ],
   "source": [
    "#正答率\n",
    "plt.plot(history.history['acc'])\n",
    "plt.plot(history.history['val_acc'])\n",
    "plt.title('model accuracy')\n",
    "plt.ylabel('accuracy')\n",
    "plt.xlabel('epoch')\n",
    "plt.legend(['train', 'val'], loc='upper left')\n",
    "plt.show()\n",
    "#loss\n",
    "plt.plot(history.history['loss'])\n",
    "plt.plot(history.history['val_loss'])\n",
    "plt.title('model loss')\n",
    "plt.ylabel('loss')\n",
    "plt.xlabel('epoch')\n",
    "plt.legend(['train', 'val'], loc='upper left')\n",
    "plt.show()"
   ]
  },
  {
   "cell_type": "code",
   "execution_count": 10,
   "metadata": {},
   "outputs": [
    {
     "name": "stdout",
     "output_type": "stream",
     "text": [
      "accuracy: 0.91\n"
     ]
    }
   ],
   "source": [
    "_, acc = my_model.evaluate(bottleneck_features_test, Y_test, verbose=0)\n",
    "print('accuracy: {}'.format(acc))"
   ]
  },
  {
   "cell_type": "code",
   "execution_count": 11,
   "metadata": {},
   "outputs": [],
   "source": [
    "result_dir = 'results'\n",
    "model.save_weights(os.path.join(result_dir, 'bottleneck_fc_model.h5'))"
   ]
  },
  {
   "cell_type": "code",
   "execution_count": null,
   "metadata": {},
   "outputs": [],
   "source": []
  }
 ],
 "metadata": {
  "kernelspec": {
   "display_name": "Python 2",
   "language": "python",
   "name": "python2"
  },
  "language_info": {
   "codemirror_mode": {
    "name": "ipython",
    "version": 2
   },
   "file_extension": ".py",
   "mimetype": "text/x-python",
   "name": "python",
   "nbconvert_exporter": "python",
   "pygments_lexer": "ipython2",
   "version": "2.7.6"
  }
 },
 "nbformat": 4,
 "nbformat_minor": 2
}
